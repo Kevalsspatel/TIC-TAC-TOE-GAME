{
  "nbformat": 4,
  "nbformat_minor": 0,
  "metadata": {
    "colab": {
      "name": "tic tac toe game.ipynb",
      "provenance": [],
      "collapsed_sections": [],
      "authorship_tag": "ABX9TyOiEx9LawyPLLteJCo1mHnU",
      "include_colab_link": true
    },
    "kernelspec": {
      "name": "python3",
      "display_name": "Python 3"
    }
  },
  "cells": [
    {
      "cell_type": "markdown",
      "metadata": {
        "id": "view-in-github",
        "colab_type": "text"
      },
      "source": [
        "<a href=\"https://colab.research.google.com/github/Kevalsspatel/TIC-TAC-TOE-GAME/blob/master/tic_tac_toe_game.ipynb\" target=\"_parent\"><img src=\"https://colab.research.google.com/assets/colab-badge.svg\" alt=\"Open In Colab\"/></a>"
      ]
    },
    {
      "cell_type": "code",
      "metadata": {
        "id": "_rlQ0WvfKNKF",
        "colab_type": "code",
        "colab": {}
      },
      "source": [
        "board = {\n",
        "    't1':' ','t2':' ','t3':' ',\n",
        "    't4':' ','t5':' ','t6':' ',\n",
        "    't7':' ','t8':' ','t9':' ',\n",
        "}"
      ],
      "execution_count": 10,
      "outputs": []
    },
    {
      "cell_type": "code",
      "metadata": {
        "id": "SFBeqCIrLZgb",
        "colab_type": "code",
        "colab": {}
      },
      "source": [
        "player = 1\n",
        "total_moves = 0\n",
        "end_check = 0"
      ],
      "execution_count": 11,
      "outputs": []
    },
    {
      "cell_type": "code",
      "metadata": {
        "id": "RoftcgI-Lkt2",
        "colab_type": "code",
        "colab": {}
      },
      "source": [
        "def check():\n",
        "  if board['t1'] == 'X' and board['t2'] == 'X' and board['t3'] == 'X':\n",
        "    print('player 1 wins!!')\n",
        "    return 1\n",
        "  if board['t4'] == 'X' and board['t5'] == 'X' and board['t6'] == 'X':\n",
        "    print('player 1 wins!!')\n",
        "    return 1\n",
        "  if board['t7'] == 'X' and board['t8'] == 'X' and board['t9'] == 'X':\n",
        "    print('player 1 wins!!')\n",
        "    return 1\n",
        "  if board['t1'] == '7' and board['t5'] == 'X' and board['t3'] == 'X':\n",
        "    print('player 1 wins!!')\n",
        "    return 1\n",
        "  if board['t1'] == 'X' and board['t5'] == 'X' and board['t9'] == 'X':\n",
        "    print('player 1 wins!!')\n",
        "    return 1\n",
        "  if board['t1'] == 'X' and board['t4'] == 'X' and board['t7'] == 'X':\n",
        "    print('player 1 wins!!')\n",
        "    return 1\n",
        "  if board['t2'] == 'X' and board['t5'] == 'X' and board['t8'] == 'X':\n",
        "    print('player 1 wins!!')\n",
        "    return 1\n",
        "  if board['t3'] == 'X' and board['t6'] == 'X' and board['t9'] == 'X':\n",
        "    print('player 1 wins!!')\n",
        "    return 1\n",
        "  if board['t1'] == 'O' and board['t2'] == 'O' and board['t3'] == 'O':\n",
        "    print('player 1 wins!!')\n",
        "    return 1\n",
        "  if board['t4'] == 'O' and board['t5'] == 'O' and board['t6'] == 'O':\n",
        "    print('player 1 wins!!')\n",
        "    return 1\n",
        "  if board['t7'] == 'O' and board['t8'] == 'O' and board['t9'] == 'O':\n",
        "    print('player 1 wins!!')\n",
        "    return 1\n",
        "  if board['t1'] == 'O' and board['t5'] == 'O' and board['t3'] == 'O':\n",
        "    print('player 1 wins!!')\n",
        "    return 1\n",
        "  if board['t1'] == 'O' and board['t5'] == 'O' and board['t9'] == 'O':\n",
        "    print('player 1 wins!!')\n",
        "    return 1\n",
        "  if board['t1'] == 'O' and board['t4'] == 'O' and board['t7'] == 'O':\n",
        "    print('player 1 wins!!')\n",
        "    return 1\n",
        "  if board['t2'] == 'O' and board['t5'] == 'O' and board['t8'] == 'O':\n",
        "    print('player 1 wins!!')\n",
        "    return 1\n",
        "  if board['t3'] == 'O' and board['t6'] == 'O' and board['t9'] == 'O':\n",
        "    print('player 1 wins!!')\n",
        "    return 1\n",
        "  return 0\n",
        "\n",
        "print('t1 | t2 | t3')\n",
        "print('---+----+---')\n",
        "print('t4 | t5 | t6')\n",
        "print('---+----+---')\n",
        "print('t7 | t8 | t9')\n",
        "print('\\n')"
      ],
      "execution_count": null,
      "outputs": []
    },
    {
      "cell_type": "code",
      "metadata": {
        "id": "E9tZsKIMMLzd",
        "colab_type": "code",
        "colab": {}
      },
      "source": [
        "while True:\n",
        "  print(board['t1']+' | '+board['t2']+'| '+board['t3'] )\n",
        "  print('--+--+--')\n",
        "  print(board['t4']+' | '+board['t5']+'| '+board['t6'] )\n",
        "  print('--+--+--')\n",
        "  print(board['t7']+' | '+board['t8']+'| '+board['t9'] )\n",
        "  end_check = check()\n",
        "  if total_moves == 9 and end_check == 1:\n",
        "    break\n",
        "  while True:\n",
        "    if player == 1 :\n",
        "      p1_input = input('player One : ')\n",
        "      if p1_input in board and board[p1_input] == \" \":\n",
        "        board[p1_input] = 'X'\n",
        "        player = 2\n",
        "        break\n",
        "      else:\n",
        "        print('plz try again.')\n",
        "        continue\n",
        "    else:\n",
        "      p2_input = input('player Two : ')\n",
        "      if p2_input in board and board[p2_input] == \" \":\n",
        "        board[p2_input] = 'O'\n",
        "        player = 1\n",
        "        break\n",
        "      else:\n",
        "        print('plz try again.')\n",
        "        continue\n",
        "    total_moves += 1\n",
        "    print()"
      ],
      "execution_count": null,
      "outputs": []
    },
    {
      "cell_type": "code",
      "metadata": {
        "id": "3ldCKvFbTR5x",
        "colab_type": "code",
        "colab": {}
      },
      "source": [
        ""
      ],
      "execution_count": null,
      "outputs": []
    }
  ]
}